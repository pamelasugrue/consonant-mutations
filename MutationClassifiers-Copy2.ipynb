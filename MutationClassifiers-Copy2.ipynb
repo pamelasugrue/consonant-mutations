{
 "cells": [
  {
   "cell_type": "code",
   "execution_count": 1,
   "metadata": {},
   "outputs": [],
   "source": [
    "irish_alphabet = ['a', 'b', 'c', 'd', 'e', 'f', 'g', 'h', 'i', 'l', 'm', 'n', 'o', 'p', 'r', 's', 't', 'u']\n",
    "\n",
    "eclipse_0 = ['m', 'g', 'n', 'b', 'd']\n",
    "eclipse_1 = ['b', 'c', 'd', 'h', 'g', 'p', 't']\n",
    "eclipse_2 = [b for b in irish_alphabet]\n",
    "\n",
    "lenite_0 = ['b', 'c', 'd', 'f', 'g', 'p', 't', 'm', 's']\n",
    "lenite_1 = ['h']\n",
    "lenite_2 = [n for n in irish_alphabet if n != 'f']"
   ]
  },
  {
   "cell_type": "code",
   "execution_count": 2,
   "metadata": {},
   "outputs": [],
   "source": [
    "eclipsis = {'b': 'mb', \n",
    "            'c': 'gc', \n",
    "            'd': 'nd', \n",
    "            'f': 'bhf', \n",
    "            'g': 'ng', \n",
    "            'p': 'bp', \n",
    "            't': 'dt'}\n",
    "\n",
    "lenition = {'b': 'bh', \n",
    "            'c': 'ch', \n",
    "            'd': 'dh', \n",
    "            'f': 'fh', \n",
    "            'g': 'gh', \n",
    "            'p': 'ph', \n",
    "            't': 'th', \n",
    "            'm': 'mh', \n",
    "            's': 'sh'}"
   ]
  },
  {
   "cell_type": "code",
   "execution_count": 3,
   "metadata": {},
   "outputs": [],
   "source": [
    "def mutation_class(irish_word):\n",
    "    try:\n",
    "        if irish_word[0] in lenite_0 and irish_word[1] in lenite_1 and irish_word[2] in lenite_2:\n",
    "            return 'lenition'\n",
                 #n.b. that lenite_2 is defined s.t. it will NOT filter for misspelled words; e.g. it will not flag 'chta' for 'chat.'
                 #if working with text likely to contain misspellings that the operator wants to be flagged, change lenite_2 to a list of vowels, and add an elif return spelling mistake for all consonants except 'f'. ensure 'bhf' onsets move to eclipsis checker.
    "        elif irish_word[0] in eclipse_0 and irish_word[1] in eclipse_1:\n",.
    "            if irish_word[2] == 'f':\n",
    "                if irish_word[0:3] in eclipsis.values():\n",
    "                    return 'eclipsis'\n",
    "            elif irish_word[0:2] in eclipsis.values():\n",
    "                return 'eclipsis'\n",
    "            else:\n",
    "                # This line will catch cases of two eclipsing consonants being transposed, i.e. 'bmord' for 'mbord.\', s.t. such cases do not return None values.\n",
    "                return 'There seems to be a spelling error.'\n",
    "        else:\n",
    "            return 'neither'\n",
    "    except:\n",
    "        return 'This is something I can\\'t read, like an empty string, a number, or a Boolean.'"
   ]
  },
  {
   "cell_type": "code",
   "execution_count": null,
   "metadata": {},
   "outputs": [],
   "source": []
  }
 ],
 "metadata": {
  "kernelspec": {
   "display_name": "Python 3",
   "language": "python",
   "name": "python3"
  },
  "language_info": {
   "codemirror_mode": {
    "name": "ipython",
    "version": 3
   },
   "file_extension": ".py",
   "mimetype": "text/x-python",
   "name": "python",
   "nbconvert_exporter": "python",
   "pygments_lexer": "ipython3",
   "version": "3.8.6rc1"
  }
 },
 "nbformat": 4,
 "nbformat_minor": 4
}
